{
 "cells": [
  {
   "cell_type": "code",
   "execution_count": 1,
   "id": "f23cc30e",
   "metadata": {},
   "outputs": [
    {
     "name": "stdout",
     "output_type": "stream",
     "text": [
      "number of upper case: 3\n",
      "number of upper case: 13\n"
     ]
    }
   ],
   "source": [
    "def func(string):\n",
    "    d={\"upper_case\":0, \"lower_case\":0}   \n",
    "    for i in string:\n",
    "        if i.isupper():\n",
    "            d[\"upper_case\"] +=1\n",
    "        elif i.islower():\n",
    "            d[\"lower_case\"] +=1\n",
    "        else:\n",
    "            pass\n",
    "    print(\"number of upper case:\", d[\"upper_case\"])\n",
    "    print(\"number of upper case:\", d[\"lower_case\"])\n",
    "        \n",
    "func(\"The quick Brown Fox\")"
   ]
  },
  {
   "cell_type": "code",
   "execution_count": null,
   "id": "4edbd70f",
   "metadata": {},
   "outputs": [],
   "source": []
  }
 ],
 "metadata": {
  "kernelspec": {
   "display_name": "Python 3 (ipykernel)",
   "language": "python",
   "name": "python3"
  },
  "language_info": {
   "codemirror_mode": {
    "name": "ipython",
    "version": 3
   },
   "file_extension": ".py",
   "mimetype": "text/x-python",
   "name": "python",
   "nbconvert_exporter": "python",
   "pygments_lexer": "ipython3",
   "version": "3.10.0"
  }
 },
 "nbformat": 4,
 "nbformat_minor": 5
}
